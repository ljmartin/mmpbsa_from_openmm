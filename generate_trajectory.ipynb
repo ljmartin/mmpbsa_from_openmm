{
 "cells": [
  {
   "cell_type": "markdown",
   "metadata": {},
   "source": [
    "# Load complex_system.xml and make a `Simulation` obj\n",
    "\n",
    "We will ignore equilibration, which is something you probably don't want to do in production."
   ]
  },
  {
   "cell_type": "code",
   "execution_count": 2,
   "metadata": {},
   "outputs": [],
   "source": [
    "from simtk.openmm.app import *\n",
    "from simtk.openmm import *\n",
    "from simtk.unit import *\n",
    "\n",
    "import numpy as np\n",
    "\n",
    "from sys import stdout\n",
    "import sys\n",
    "from tqdm import tqdm\n",
    "\n"
   ]
  },
  {
   "cell_type": "code",
   "execution_count": 3,
   "metadata": {},
   "outputs": [],
   "source": [
    "#load complex\n",
    "complex_pdb = PDBFile('./openmm_simulation/complex_coords.pdb')\n",
    "complex_system = XmlSerializer.deserialize(open('./openmm_simulation/complex_system_.xml').read())\n",
    "\n"
   ]
  },
  {
   "cell_type": "code",
   "execution_count": 4,
   "metadata": {},
   "outputs": [
    {
     "data": {
      "text/plain": [
       "5"
      ]
     },
     "execution_count": 4,
     "metadata": {},
     "output_type": "execute_result"
    }
   ],
   "source": [
    "##add a barostat. Not only will this initially fix any vacuum between periodic cells,\n",
    "##it will be maintained throughout to keep pressure reasonable. \n",
    "barostat = MonteCarloBarostat(1*bar, 310*kelvin)\n",
    "complex_system.addForce(barostat)"
   ]
  },
  {
   "cell_type": "code",
   "execution_count": 6,
   "metadata": {},
   "outputs": [],
   "source": [
    "#OpenMM simulation machinery:\n",
    "integrator = LangevinIntegrator(310*kelvin, 10/picosecond, 0.002*picoseconds)\n",
    "platform = Platform.getPlatformByName('OpenCL')\n",
    "prop = {'OpenCLPrecision':'single', 'OpenCLDeviceIndex':'0'}\n",
    "simulation = Simulation(complex_pdb.topology, complex_system, integrator, platform, prop)\n"
   ]
  },
  {
   "cell_type": "code",
   "execution_count": 7,
   "metadata": {},
   "outputs": [],
   "source": [
    "#minimize starting coords:\n",
    "simulation.context.setPositions(complex_pdb.positions)\n",
    "simulation.minimizeEnergy(maxIterations=150)"
   ]
  },
  {
   "cell_type": "markdown",
   "metadata": {},
   "source": [
    "# Add a DCDReporter, and simulate\n",
    "takes about three hours "
   ]
  },
  {
   "cell_type": "code",
   "execution_count": null,
   "metadata": {},
   "outputs": [
    {
     "name": "stdout",
     "output_type": "stream",
     "text": [
      "#\"Step\",\"Potential Energy (kJ/mole)\",\"Temperature (K)\",\"Speed (ns/day)\"\n",
      "10000,-244078.046935851,314.1161081244298,0\n",
      "20000,-244802.8079700591,306.94958800815084,328\n",
      "30000,-244209.9312187899,309.86895505168525,329\n",
      "40000,-245816.08737655776,313.1231928279203,329\n",
      "50000,-245414.61540736235,314.0271526116457,327\n",
      "60000,-245148.30666596093,310.83749495522375,327\n",
      "70000,-244711.9812098709,309.3263354980667,326\n",
      "80000,-243991.23943777964,310.329007137759,325\n"
     ]
    }
   ],
   "source": [
    "simulation.reporters.append(DCDReporter('./traj_production.dcd', 10000)) #20ps per sample\n",
    "simulation.reporters.append(StateDataReporter(stdout, 10000, \n",
    "                                              step=True, \n",
    "                                              potentialEnergy=True, \n",
    "                                              temperature=True, speed=True))\n",
    "\n",
    "\n",
    "##Extra 1 ns for good measure.\n",
    "step_per_ns = 500000\n",
    "num_ns = 50\n",
    "simulation.step(step_per_ns * num_ns)\n"
   ]
  },
  {
   "cell_type": "code",
   "execution_count": null,
   "metadata": {},
   "outputs": [],
   "source": []
  }
 ],
 "metadata": {
  "kernelspec": {
   "display_name": "Python 3",
   "language": "python",
   "name": "python3"
  },
  "language_info": {
   "codemirror_mode": {
    "name": "ipython",
    "version": 3
   },
   "file_extension": ".py",
   "mimetype": "text/x-python",
   "name": "python",
   "nbconvert_exporter": "python",
   "pygments_lexer": "ipython3",
   "version": "3.7.6"
  }
 },
 "nbformat": 4,
 "nbformat_minor": 4
}
