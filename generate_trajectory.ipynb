{
 "cells": [
  {
   "cell_type": "markdown",
   "metadata": {},
   "source": [
    "# Load complex_system.xml and make a `Simulation` obj\n",
    "\n",
    "We will ignore equilibration, which is something you probably don't want to do in production."
   ]
  },
  {
   "cell_type": "code",
   "execution_count": 1,
   "metadata": {},
   "outputs": [],
   "source": [
    "from simtk.openmm.app import *\n",
    "from simtk.openmm import *\n",
    "from simtk.unit import *\n",
    "\n",
    "import numpy as np\n",
    "\n",
    "from sys import stdout\n",
    "import sys\n",
    "from tqdm import tqdm\n",
    "\n"
   ]
  },
  {
   "cell_type": "code",
   "execution_count": 2,
   "metadata": {},
   "outputs": [],
   "source": [
    "#load complex\n",
    "complex_pdb = PDBFile('./openmm_simulation/complex_coords.pdb')\n",
    "complex_system = XmlSerializer.deserialize(open('./openmm_simulation/complex_system_.xml').read())\n",
    "\n"
   ]
  },
  {
   "cell_type": "code",
   "execution_count": 3,
   "metadata": {},
   "outputs": [
    {
     "data": {
      "text/plain": [
       "5"
      ]
     },
     "execution_count": 3,
     "metadata": {},
     "output_type": "execute_result"
    }
   ],
   "source": [
    "##add a barostat. Not only will this initially fix any vacuum between periodic cells,\n",
    "##it will be maintained throughout to keep pressure reasonable. \n",
    "barostat = MonteCarloBarostat(1*bar, 310*kelvin)\n",
    "complex_system.addForce(barostat)"
   ]
  },
  {
   "cell_type": "code",
   "execution_count": 4,
   "metadata": {},
   "outputs": [],
   "source": [
    "#OpenMM simulation machinery:\n",
    "integrator = LangevinIntegrator(310*kelvin, 10/picosecond, 0.002*picoseconds)\n",
    "platform = Platform.getPlatformByName('OpenCL')\n",
    "prop = {'OpenCLPrecision':'single', 'OpenCLDeviceIndex':'0'}\n",
    "simulation = Simulation(complex_pdb.topology, complex_system, integrator, platform, prop)\n"
   ]
  },
  {
   "cell_type": "code",
   "execution_count": 5,
   "metadata": {},
   "outputs": [],
   "source": [
    "#minimize starting coords:\n",
    "simulation.context.setPositions(complex_pdb.positions)\n",
    "simulation.minimizeEnergy(maxIterations=150)"
   ]
  },
  {
   "cell_type": "markdown",
   "metadata": {},
   "source": [
    "# Add a DCDReporter, and simulate\n",
    "takes about three hours for "
   ]
  },
  {
   "cell_type": "code",
   "execution_count": null,
   "metadata": {
    "scrolled": true
   },
   "outputs": [
    {
     "name": "stdout",
     "output_type": "stream",
     "text": [
      "#\"Step\",\"Potential Energy (kJ/mole)\",\"Temperature (K)\",\"Speed (ns/day)\"\n",
      "10000,-244065.23634090647,311.14452014330993,0\n",
      "20000,-245238.6391195343,311.2367601593027,320\n",
      "30000,-244572.41162934923,311.21327211910284,318\n",
      "40000,-243526.35017299443,309.7162505670558,317\n",
      "50000,-245036.13331117085,310.2357222430113,318\n",
      "60000,-244498.9488313219,307.13913711712553,318\n",
      "70000,-245268.86636492494,307.829644307307,319\n",
      "80000,-244202.03798961733,309.34086661550634,319\n",
      "90000,-244678.8395471482,311.92254423500805,319\n",
      "100000,-245656.95003902237,307.689400812341,320\n",
      "110000,-244749.3330604455,311.8199753375892,319\n",
      "120000,-245446.59819297493,312.7549370825635,318\n",
      "130000,-245292.8781363119,308.7991431064189,318\n",
      "140000,-245350.94295240124,313.9389951268412,317\n",
      "150000,-244884.48218487552,307.3702998864197,317\n",
      "160000,-244187.17482831865,312.760245831059,317\n",
      "170000,-245248.16043884563,308.2519124197746,317\n",
      "180000,-245565.93572591315,311.77475179223717,316\n"
     ]
    }
   ],
   "source": [
    "simulation.reporters.append(DCDReporter('./traj_production.dcd', 10000)) #20ps per sample\n",
    "simulation.reporters.append(StateDataReporter(stdout, 10000, \n",
    "                                              step=True, \n",
    "                                              potentialEnergy=True, \n",
    "                                              temperature=True, speed=True))\n",
    "\n",
    "\n",
    "##Extra 1 ns for good measure.\n",
    "step_per_ns = 500000\n",
    "num_ns = 5\n",
    "simulation.step(step_per_ns * num_ns)\n"
   ]
  },
  {
   "cell_type": "code",
   "execution_count": null,
   "metadata": {},
   "outputs": [],
   "source": []
  }
 ],
 "metadata": {
  "kernelspec": {
   "display_name": "Python 3",
   "language": "python",
   "name": "python3"
  },
  "language_info": {
   "codemirror_mode": {
    "name": "ipython",
    "version": 3
   },
   "file_extension": ".py",
   "mimetype": "text/x-python",
   "name": "python",
   "nbconvert_exporter": "python",
   "pygments_lexer": "ipython3",
   "version": "3.7.6"
  }
 },
 "nbformat": 4,
 "nbformat_minor": 4
}
