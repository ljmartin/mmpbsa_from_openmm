{
 "cells": [
  {
   "cell_type": "code",
   "execution_count": 2,
   "metadata": {},
   "outputs": [
    {
     "name": "stderr",
     "output_type": "stream",
     "text": [
      "RDKit WARNING: [10:58:30] Enabling RDKit 2019.09.3 jupyter extensions\n"
     ]
    }
   ],
   "source": [
    "from rdkit import Chem\n",
    "from rdkit.Chem import AllChem, rdMolAlign, Draw, rdFMCS\n",
    "import numpy as np"
   ]
  },
  {
   "cell_type": "code",
   "execution_count": 3,
   "metadata": {},
   "outputs": [],
   "source": [
    "catechol_smiles = 'C1=CC=C(C(=C1)O)O'"
   ]
  },
  {
   "cell_type": "code",
   "execution_count": 4,
   "metadata": {},
   "outputs": [],
   "source": [
    "#crystal structure drug:\n",
    "xtal_lig_pdb = Chem.MolFromPDBFile('./catechol_xtal.pdb')\n",
    "\n",
    "#rdkit mol object of ligand:\n",
    "rdkit_mol = Chem.MolFromSmiles(catechol_smiles)\n",
    "rdkit_mol = Chem.AddHs(rdkit_mol)\n",
    "AllChem.EmbedMolecule(rdkit_mol, clearConfs=False)\n",
    "\n",
    "\n",
    "#calculate MCS (MCS is the whole thing, but this workflow will also work\n",
    "#for other ligands sharing a reasonable common substructure)\n",
    "mcs =rdFMCS.FindMCS([rdkit_mol, xtal_lig_pdb])\n",
    "smarts = mcs.smartsString\n",
    "match = Chem.MolFromSmarts(smarts)\n",
    "test_match_atoms = rdkit_mol.GetSubstructMatch(match)\n",
    "ref_match_atoms = xtal_lig_pdb.GetSubstructMatch(match)\n",
    "\n",
    "#Find alignments of all conformers of new drug to old drug:\n",
    "alignment_score = rdMolAlign.AlignMol(rdkit_mol,\n",
    "                    xtal_lig_pdb,\n",
    "                    prbCid=0,\n",
    "                    atomMap=[[i,j] for i,j in zip(test_match_atoms, ref_match_atoms)])\n",
    "\n",
    "\n",
    "#0th conformer of rdkit_mol should now be aligned to xtal_lig_pdb.\n",
    "Chem.MolToPDBFile(rdkit_mol, './catechol_aligned.pdb', confId=int(0))"
   ]
  },
  {
   "cell_type": "code",
   "execution_count": 5,
   "metadata": {},
   "outputs": [
    {
     "data": {
      "image/png": "[encoded data removed]",
      "text/plain": [
       "<rdkit.Chem.rdchem.Mol at 0x7f3760581760>"
      ]
     },
     "execution_count": 5,
     "metadata": {},
     "output_type": "execute_result"
    }
   ],
   "source": [
    "rdkit_mol"
   ]
  },
  {
   "cell_type": "code",
   "execution_count": null,
   "metadata": {},
   "outputs": [],
   "source": []
  }
 ],
 "metadata": {
  "kernelspec": {
   "display_name": "Python 3",
   "language": "python",
   "name": "python3"
  },
  "language_info": {
   "codemirror_mode": {
    "name": "ipython",
    "version": 3
   },
   "file_extension": ".py",
   "mimetype": "text/x-python",
   "name": "python",
   "nbconvert_exporter": "python",
   "pygments_lexer": "ipython3",
   "version": "3.7.6"
  }
 },
 "nbformat": 4,
 "nbformat_minor": 4
}
