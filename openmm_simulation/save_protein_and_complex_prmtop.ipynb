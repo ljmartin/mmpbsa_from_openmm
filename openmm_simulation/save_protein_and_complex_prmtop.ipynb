{
 "cells": [
  {
   "cell_type": "code",
   "execution_count": 1,
   "metadata": {},
   "outputs": [],
   "source": [
    "import parmed\n",
    "import numpy as np\n",
    "import itertools\n",
    "\n",
    "from simtk.openmm.app import *\n",
    "from simtk.openmm import *\n",
    "from simtk.unit import *"
   ]
  },
  {
   "cell_type": "markdown",
   "metadata": {},
   "source": [
    "# Load solvated protein"
   ]
  },
  {
   "cell_type": "code",
   "execution_count": 69,
   "metadata": {},
   "outputs": [],
   "source": [
    "#Load up CHARMM-GUI pdb, and create a PARMED structure from it.  \n",
    "prot_pdb = PDBFile('./1xep-processed.pdb')"
   ]
  },
  {
   "cell_type": "markdown",
   "metadata": {},
   "source": [
    "# Delete waters to save as receptor alone prmtop:"
   ]
  },
  {
   "cell_type": "code",
   "execution_count": 70,
   "metadata": {},
   "outputs": [],
   "source": [
    "mod = Modeller(prot_pdb.topology, prot_pdb.positions)"
   ]
  },
  {
   "cell_type": "code",
   "execution_count": 71,
   "metadata": {},
   "outputs": [
    {
     "name": "stdout",
     "output_type": "stream",
     "text": [
      "\n",
      "Chain 0:\n",
      "\t [<Atom 0 (N) of chain 0 residue 0 (MET)>, <Atom 1 (H) of chain 0 residue 0 (MET)>, <Atom 2 (H2) of chain 0 residue 0 (MET)>, <Atom 3 (H3) of chain 0 residue 0 (MET)>, <Atom 4 (CA) of chain 0 residue 0 (MET)>]\n",
      "\t [<Atom 2596 (NZ) of chain 0 residue 161 (LYS)>, <Atom 2597 (HZ1) of chain 0 residue 161 (LYS)>, <Atom 2598 (HZ2) of chain 0 residue 161 (LYS)>, <Atom 2599 (HZ3) of chain 0 residue 161 (LYS)>, <Atom 2600 (OXT) of chain 0 residue 161 (LYS)>]\n",
      "\n",
      "Chain 1:\n",
      "\t [<Atom 2601 (O) of chain 1 residue 162 (HOH)>, <Atom 2602 (H1) of chain 1 residue 162 (HOH)>, <Atom 2603 (H2) of chain 1 residue 162 (HOH)>, <Atom 2604 (O) of chain 1 residue 163 (HOH)>, <Atom 2605 (H1) of chain 1 residue 163 (HOH)>]\n",
      "\t [<Atom 18406 (H1) of chain 1 residue 5430 (HOH)>, <Atom 18407 (H2) of chain 1 residue 5430 (HOH)>, <Atom 18408 (O) of chain 1 residue 5431 (HOH)>, <Atom 18409 (H1) of chain 1 residue 5431 (HOH)>, <Atom 18410 (H2) of chain 1 residue 5431 (HOH)>]\n",
      "\n",
      "Chain 2:\n",
      "\t [<Atom 18411 (Na) of chain 2 residue 5432 (NA)>, <Atom 18412 (Na) of chain 2 residue 5433 (NA)>, <Atom 18413 (Na) of chain 2 residue 5434 (NA)>, <Atom 18414 (Na) of chain 2 residue 5435 (NA)>, <Atom 18415 (Na) of chain 2 residue 5436 (NA)>]\n",
      "\t [<Atom 18442 (Cl) of chain 2 residue 5463 (CL)>, <Atom 18443 (Cl) of chain 2 residue 5464 (CL)>, <Atom 18444 (Cl) of chain 2 residue 5465 (CL)>, <Atom 18445 (Cl) of chain 2 residue 5466 (CL)>, <Atom 18446 (Cl) of chain 2 residue 5467 (CL)>]\n"
     ]
    }
   ],
   "source": [
    "chains = [i for i in mod.topology.chains()]\n",
    "for count, ch in enumerate(chains):\n",
    "    print(f'\\nChain {count}:')\n",
    "    atoms = [i for i in ch.atoms()]\n",
    "    print('\\t', atoms[:5])\n",
    "    print('\\t', atoms[-5:])"
   ]
  },
  {
   "cell_type": "code",
   "execution_count": 72,
   "metadata": {},
   "outputs": [],
   "source": [
    "#looks like chain 1 and 2 contain water and ions. So let's delete those:\n",
    "mod.delete([chains[1]])\n",
    "chains = [i for i in mod.topology.chains()] #dunno why but you have to rewrite the chains\n",
    "                                            #ref here in order to delete the right one.\n",
    "mod.delete([chains[1]])"
   ]
  },
  {
   "cell_type": "code",
   "execution_count": 73,
   "metadata": {},
   "outputs": [],
   "source": [
    "omm_forcefield = app.ForceField('amber14-all.xml', 'amber14/tip3p.xml')\n",
    "prot_system = omm_forcefield.createSystem(mod.topology, rigidWater=False)\n",
    "prot_structure = parmed.openmm.load_topology(mod.topology,\n",
    "                                           prot_system,\n",
    "                                           xyz=mod.positions)"
   ]
  },
  {
   "cell_type": "code",
   "execution_count": 74,
   "metadata": {},
   "outputs": [],
   "source": [
    "prot_structure.save('receptor.prmtop')"
   ]
  },
  {
   "cell_type": "markdown",
   "metadata": {},
   "source": [
    "# Same again with the complex:"
   ]
  },
  {
   "cell_type": "code",
   "execution_count": 77,
   "metadata": {},
   "outputs": [],
   "source": [
    "#Load up the parameterized drug system, and again make it into a parmed structure:\n",
    "drug_system = XmlSerializer.deserialize(open('./drug_system.xml').read())\n",
    "drug_pdbfile = PDBFile('./catechol_aligned.pdb')\n",
    "\n",
    "drug_structure = parmed.openmm.load_topology(drug_pdbfile.topology,\n",
    "                                                drug_system,\n",
    "                                                xyz=drug_pdbfile.positions)"
   ]
  },
  {
   "cell_type": "code",
   "execution_count": 78,
   "metadata": {},
   "outputs": [],
   "source": [
    "complex_no_water = prot_structure + drug_structure"
   ]
  },
  {
   "cell_type": "code",
   "execution_count": 79,
   "metadata": {},
   "outputs": [],
   "source": [
    "complex_no_water.save('complex.prmtop')"
   ]
  },
  {
   "cell_type": "code",
   "execution_count": null,
   "metadata": {},
   "outputs": [],
   "source": []
  }
 ],
 "metadata": {
  "kernelspec": {
   "display_name": "Python 3",
   "language": "python",
   "name": "python3"
  },
  "language_info": {
   "codemirror_mode": {
    "name": "ipython",
    "version": 3
   },
   "file_extension": ".py",
   "mimetype": "text/x-python",
   "name": "python",
   "nbconvert_exporter": "python",
   "pygments_lexer": "ipython3",
   "version": "3.7.6"
  }
 },
 "nbformat": 4,
 "nbformat_minor": 4
}
