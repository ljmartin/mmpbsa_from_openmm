{
 "cells": [
  {
   "cell_type": "code",
   "execution_count": 1,
   "metadata": {},
   "outputs": [],
   "source": [
    "import parmed\n",
    "import numpy as np\n",
    "import itertools\n",
    "\n",
    "from simtk.openmm.app import *\n",
    "from simtk.openmm import *\n",
    "from simtk.unit import *\n",
    "\n",
    "from sys import stdout\n",
    "import sys"
   ]
  },
  {
   "cell_type": "markdown",
   "metadata": {},
   "source": [
    "# Load protein system:"
   ]
  },
  {
   "cell_type": "code",
   "execution_count": 2,
   "metadata": {},
   "outputs": [],
   "source": [
    "#Load up CHARMM-GUI pdb, and create a PARMED structure from it.  \n",
    "prot_pdb = PDBFile('./1xep-processed.pdb')\n",
    "omm_forcefield = app.ForceField('amber14-all.xml', 'amber14/tip3p.xml')\n",
    "prot_system = omm_forcefield.createSystem(prot_pdb.topology, rigidWater=False)\n",
    "prot_structure = parmed.openmm.load_topology(prot_pdb.topology,\n",
    "                                           prot_system,\n",
    "                                           xyz=prot_pdb.positions)"
   ]
  },
  {
   "cell_type": "markdown",
   "metadata": {},
   "source": [
    "# Load drug system:"
   ]
  },
  {
   "cell_type": "code",
   "execution_count": 3,
   "metadata": {},
   "outputs": [],
   "source": [
    "#Load up the parameterized drug system, and again make it into a parmed structure:\n",
    "drug_system = XmlSerializer.deserialize(open('./drug_system.xml').read())\n",
    "drug_pdbfile = PDBFile('./catechol_aligned.pdb')\n",
    "\n",
    "drug_structure = parmed.openmm.load_topology(drug_pdbfile.topology,\n",
    "                                                drug_system,\n",
    "                                                xyz=drug_pdbfile.positions)"
   ]
  },
  {
   "cell_type": "markdown",
   "metadata": {},
   "source": [
    "# Combine:"
   ]
  },
  {
   "cell_type": "code",
   "execution_count": 4,
   "metadata": {},
   "outputs": [],
   "source": [
    "#This is the biggest step but it takes 1 second:\n",
    "complex_structure = prot_structure + drug_structure\n"
   ]
  },
  {
   "cell_type": "markdown",
   "metadata": {},
   "source": [
    "# Turn back into an openmm system"
   ]
  },
  {
   "cell_type": "code",
   "execution_count": 5,
   "metadata": {},
   "outputs": [],
   "source": [
    "#set periodic boundary conditons (you get these from the processed pdb file, 1xep-processed.pdb)\n",
    "#64.871   64.871   64.871  60.00  60.00  90.00 P 1           1\n",
    "#note parmed (and PBD files) uses angstrom by default. \n",
    "complex_structure.box = (64.871, 64.871, 64.871, 60, 60, 90)\n",
    "\n",
    "#Turn into an OpenMM System object for simulations:\n",
    "#These settings will be stuck unless you re-run this script! Luckily they're pretty standard settings.\n",
    "complex_system = complex_structure.createSystem(nonbondedMethod=PME,\n",
    "                                                nonbondedCutoff=0.9*nanometer,\n",
    "                                               constraints=HBonds,\n",
    "                                                rigidWater=True)"
   ]
  },
  {
   "cell_type": "code",
   "execution_count": 6,
   "metadata": {},
   "outputs": [],
   "source": [
    "complex_structure.save('complex_plus_water.parm7')"
   ]
  },
  {
   "cell_type": "markdown",
   "metadata": {},
   "source": [
    "# Save output as PDB, PSF, and serialized openmm system"
   ]
  },
  {
   "cell_type": "code",
   "execution_count": 7,
   "metadata": {},
   "outputs": [],
   "source": [
    "#Save output:\n",
    "complex_structure.save('./complex_coords.pdb', overwrite=True)\n",
    "\n",
    "#PSF files don't like having numbered atom types, because at 10,000 VMD fails\n",
    "#So just set them all to zero.\n",
    "for a in complex_structure.atoms:\n",
    "    a.type = '0'\n",
    "complex_structure.save('./complex_struct_.psf', overwrite=True)\n",
    "\n",
    "with open('./complex_system_.xml', 'w') as f:\n",
    "    f.write(\n",
    "            XmlSerializer.serialize(\n",
    "                complex_system\n",
    "            )\n",
    "    )"
   ]
  }
 ],
 "metadata": {
  "kernelspec": {
   "display_name": "Python 3",
   "language": "python",
   "name": "python3"
  },
  "language_info": {
   "codemirror_mode": {
    "name": "ipython",
    "version": 3
   },
   "file_extension": ".py",
   "mimetype": "text/x-python",
   "name": "python",
   "nbconvert_exporter": "python",
   "pygments_lexer": "ipython3",
   "version": "3.7.6"
  }
 },
 "nbformat": 4,
 "nbformat_minor": 4
}
