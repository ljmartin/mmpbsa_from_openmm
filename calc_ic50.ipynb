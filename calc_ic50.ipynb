{
 "cells": [
  {
   "cell_type": "code",
   "execution_count": 1,
   "metadata": {},
   "outputs": [],
   "source": [
    "from simtk.openmm.app import *\n",
    "from simtk.openmm import *\n",
    "from simtk.unit import *\n",
    "import numpy as np"
   ]
  },
  {
   "cell_type": "code",
   "execution_count": 2,
   "metadata": {},
   "outputs": [],
   "source": [
    "kT = MOLAR_GAS_CONSTANT_R * 310*kelvin\n",
    "z = 1.96\n",
    "\n",
    "n = 250\n",
    "sqrn = np.sqrt(n)\n",
    "\n",
    "mean_value = -6.1105*kilocalories_per_mole\n",
    "sd = 2.5155*kilocalories_per_mole\n",
    "\n",
    "low = mean_value - z*sd/sqrn\n",
    "high = mean_value + z*sd/sqrn"
   ]
  },
  {
   "cell_type": "code",
   "execution_count": 3,
   "metadata": {},
   "outputs": [],
   "source": [
    "def convert_dg_to_ic50(dg):\n",
    "    ic50 = np.exp(dg / kT)*molar\n",
    "    return ic50.value_in_unit(micromolar)"
   ]
  },
  {
   "cell_type": "code",
   "execution_count": 4,
   "metadata": {},
   "outputs": [],
   "source": [
    "import matplotlib.pyplot as plt\n"
   ]
  },
  {
   "cell_type": "code",
   "execution_count": 5,
   "metadata": {},
   "outputs": [
    {
     "data": {
      "text/plain": [
       "29.672930172171615"
      ]
     },
     "execution_count": 5,
     "metadata": {},
     "output_type": "execute_result"
    }
   ],
   "source": [
    "convert_dg_to_ic50(low) "
   ]
  },
  {
   "cell_type": "code",
   "execution_count": 16,
   "metadata": {},
   "outputs": [
    {
     "data": {
      "text/plain": [
       "1008.8246892311153"
      ]
     },
     "execution_count": 16,
     "metadata": {},
     "output_type": "execute_result"
    }
   ],
   "source": [
    "val = -4.25 * kilocalories_per_mole\n",
    "\n",
    "convert_dg_to_ic50(val)"
   ]
  },
  {
   "cell_type": "code",
   "execution_count": 17,
   "metadata": {},
   "outputs": [
    {
     "data": {
      "text/plain": [
       "Quantity(value=-1.8605, unit=kilocalorie/mole)"
      ]
     },
     "execution_count": 17,
     "metadata": {},
     "output_type": "execute_result"
    }
   ],
   "source": [
    "mean_value - val"
   ]
  },
  {
   "cell_type": "code",
   "execution_count": null,
   "metadata": {},
   "outputs": [],
   "source": []
  },
  {
   "cell_type": "code",
   "execution_count": null,
   "metadata": {},
   "outputs": [],
   "source": []
  },
  {
   "cell_type": "code",
   "execution_count": 6,
   "metadata": {},
   "outputs": [
    {
     "data": {
      "text/plain": [
       "81.66265477385106"
      ]
     },
     "execution_count": 6,
     "metadata": {},
     "output_type": "execute_result"
    }
   ],
   "source": [
    "convert_dg_to_ic50(high)"
   ]
  },
  {
   "cell_type": "code",
   "execution_count": 62,
   "metadata": {},
   "outputs": [
    {
     "data": {
      "text/plain": [
       "<matplotlib.legend.Legend at 0x7fd798413b50>"
      ]
     },
     "execution_count": 62,
     "metadata": {},
     "output_type": "execute_result"
    },
    {
     "data": {
      "image/png": "[encoded data removed]",
      "text/plain": [
       "<Figure size 432x288 with 1 Axes>"
      ]
     },
     "metadata": {
      "needs_background": "light"
     },
     "output_type": "display_data"
    }
   ],
   "source": [
    "m = convert_dg_to_ic50(mean_value)\n",
    "l = convert_dg_to_ic50(low)\n",
    "h = convert_dg_to_ic50(high)\n",
    "\n",
    "plt.bar([0], [m], label='Estimaed IC50')\n",
    "\n",
    "\n",
    "plt.errorbar(x= [0],\n",
    "             y = m,\n",
    "             yerr = [[m-l], [h-m]],\n",
    "             marker='o',\n",
    "             c='k',\n",
    "             mfc='white',\n",
    "             linewidth=2,\n",
    "             label='95% CI')\n",
    "\n",
    "plt.ylabel('IC50 - micromolar')\n",
    "plt.xticks([0], ['Ca'])\n",
    "plt.xlim(-1,2)\n",
    "plt.legend()\n"
   ]
  },
  {
   "cell_type": "code",
   "execution_count": 44,
   "metadata": {},
   "outputs": [
    {
     "data": {
      "text/plain": [
       "<ErrorbarContainer object of 3 artists>"
      ]
     },
     "execution_count": 44,
     "metadata": {},
     "output_type": "execute_result"
    },
    {
     "data": {
      "image/png": "[encoded data removed]",
      "text/plain": [
       "<Figure size 432x288 with 1 Axes>"
      ]
     },
     "metadata": {
      "needs_background": "light"
     },
     "output_type": "display_data"
    }
   ],
   "source": [
    "m = convert_dg_to_ic50(mean_value)\n",
    "l = convert_dg_to_ic50(low)\n",
    "h = convert_dg_to_ic50(high)\n",
    "plt.errorbar(x= [0],\n",
    "             y = m,\n",
    "             yerr = [[m-l], [h-m]],\n",
    "             marker='o',\n",
    "             label='Estimaed IC50')"
   ]
  },
  {
   "cell_type": "code",
   "execution_count": null,
   "metadata": {},
   "outputs": [],
   "source": [
    "|"
   ]
  }
 ],
 "metadata": {
  "kernelspec": {
   "display_name": "Python 3",
   "language": "python",
   "name": "python3"
  },
  "language_info": {
   "codemirror_mode": {
    "name": "ipython",
    "version": 3
   },
   "file_extension": ".py",
   "mimetype": "text/x-python",
   "name": "python",
   "nbconvert_exporter": "python",
   "pygments_lexer": "ipython3",
   "version": "3.7.6"
  }
 },
 "nbformat": 4,
 "nbformat_minor": 4
}
